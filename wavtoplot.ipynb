{
 "cells": [
  {
   "cell_type": "markdown",
   "source": [
    "# Wav Plotter\n",
    "### Larry Oates\n",
    "This jupiter notebook uses the python libraries in the following cell to read an uploaded wav file and display a plot of\n",
    " the amplitudes of each sample  "
   ],
   "metadata": {
    "collapsed": false,
    "pycharm": {
     "name": "#%% md\n"
    }
   }
  },
  {
   "metadata": {
    "trusted": true,
    "pycharm": {
     "is_executing": false
    }
   },
   "id": "71139213",
   "cell_type": "code",
   "source": [
    "import os\n",
    "import scipy.io.wavfile as wav\n",
    "import numpy as np\n",
    "import matplotlib.pyplot as plt"
   ],
   "execution_count": 26,
   "outputs": []
  },
  {
   "cell_type": "markdown",
   "source": [
    "First, the path to the wav file that will be displayed needs to be defined. \n",
    "The current working directory is shown bellow."
   ],
   "metadata": {
    "collapsed": false,
    "pycharm": {
     "name": "#%% md\n"
    }
   }
  },
  {
   "cell_type": "code",
   "execution_count": 27,
   "outputs": [
    {
     "data": {
      "text/plain": "'E:\\\\Users\\\\breno\\\\PycharmProjects\\\\wav_to_plot'"
     },
     "metadata": {},
     "output_type": "execute_result",
     "execution_count": 27
    }
   ],
   "source": [
    "os.getcwd()"
   ],
   "metadata": {
    "collapsed": false,
    "pycharm": {
     "name": "#%%\n",
     "is_executing": false
    }
   }
  },
  {
   "cell_type": "markdown",
   "source": [
    "As this directory contains the wav file to be read, the name of the wav file is all that is needed to define it's path. "
   ],
   "metadata": {
    "collapsed": false,
    "pycharm": {
     "name": "#%% md\n"
    }
   }
  },
  {
   "cell_type": "code",
   "execution_count": 28,
   "outputs": [],
   "source": [
    "wavepath = 'example_wav_1channel.wav'"
   ],
   "metadata": {
    "collapsed": false,
    "pycharm": {
     "name": "#%% \n",
     "is_executing": false
    }
   }
  },
  {
   "cell_type": "markdown",
   "source": [
    "To use a different wav file, upload it by clicking the button pictured bellow then\n",
    "replace \"example_wav_1channel.wav\" in the cell above with the name of the new wav.\n",
    "\n",
    "![alt text](upload_button.PNG)\n",
    "\n",
    "A two channel \n",
    "wav file called \"example_wav_2channel.wav\" has been included if you do not wish to upload your own wav.\n",
    "\n",
    "After making changes to this note book it must be rerun for them to take effect. Do this by clicking the button pictured below\n",
    "\n",
    "![alt text](rerun_cells.PNG)\n",
    "\n",
    "The scipy.io.wavfile.read function reads the given wav file and saves the sample rate as well as the sample data."
   ],
   "metadata": {
    "collapsed": false,
    "pycharm": {
     "name": "#%% md\n"
    }
   }
  },
  {
   "cell_type": "code",
   "execution_count": 29,
   "outputs": [],
   "source": [
    "sampleRate, data = wav.read(wavepath)"
   ],
   "metadata": {
    "collapsed": false,
    "pycharm": {
     "name": "#%%\n",
     "is_executing": false
    }
   }
  },
  {
   "cell_type": "markdown",
   "source": [
    "\"data\" is a numpy array that contains the amplitude of each sample. \n",
    "The range of amplitudes depends on the bit-depth and encoding of the wav file.\n",
    "If the wav is multi-channeled then each element will be an array containing the applitudes for each channel instead of a single value. \n",
    "\n",
    "These two variables can be used to find the number of channels aswell as the length of the wav file"
   ],
   "metadata": {
    "collapsed": false,
    "pycharm": {
     "name": "#%% md\n"
    }
   }
  },
  {
   "cell_type": "code",
   "execution_count": 30,
   "outputs": [
    {
     "name": "stdout",
     "text": [
      "The 2000ths sample has an amplitude of -488\n",
      "Number of channels: 1\n",
      "The wav is 187.08662131519273s long\n"
     ],
     "output_type": "stream"
    }
   ],
   "source": [
    "try:\n",
    "    channels = (len(data[0]))\n",
    "    print(f\"The 2000ths sample has amplitudes of {data[2000]} for it's channels\")\n",
    "\n",
    "except TypeError:\n",
    "    channels = 1\n",
    "    print(f'The 2000ths sample has an amplitude of {data[2000]}')\n",
    "\n",
    "print(f'Number of channels: {channels}')\n",
    "\n",
    "duration = len(data) / sampleRate\n",
    "print (f'The wav is {duration}s long')"
   ],
   "metadata": {
    "collapsed": false,
    "pycharm": {
     "name": "#%%\n",
     "is_executing": false
    }
   }
  },
  {
   "cell_type": "markdown",
   "source": [
    "To plot the waveform, the matplotlib module is used. The plot function takes an arrays for both the X and Y coordinates.\n",
    "The Y coordinates are contained in data but the X the coordinates (the time till each sample occures) needs to be generated.\n",
    "the numpy.arrange function is used for this "
   ],
   "metadata": {
    "collapsed": false,
    "pycharm": {
     "name": "#%% md\n"
    }
   }
  },
  {
   "cell_type": "code",
   "execution_count": 31,
   "outputs": [],
   "source": [
    "time = np.arange(0, duration, 1 / sampleRate)  # time vector"
   ],
   "metadata": {
    "collapsed": false,
    "pycharm": {
     "name": "#%%\n",
     "is_executing": false
    }
   }
  },
  {
   "cell_type": "markdown",
   "source": [
    "All that is left to do now is to pass time and data to the plotter function, add labels and show the plotted waveform!"
   ],
   "metadata": {
    "collapsed": false,
    "pycharm": {
     "name": "#%% md\n"
    }
   }
  },
  {
   "cell_type": "code",
   "execution_count": 32,
   "outputs": [
    {
     "data": {
      "text/plain": "<Figure size 432x288 with 1 Axes>",
      "image/png": "[encoded data removed]"
     },
     "metadata": {
      "needs_background": "light"
     },
     "output_type": "display_data"
    }
   ],
   "source": [
    "plt.plot(time, data)\n",
    "plt.xlabel('Time [s]')\n",
    "plt.ylabel('Amplitude')\n",
    "plt.title('wav to plot')\n",
    "plt.show()\n",
    "\n",
    "\n",
    "\n"
   ],
   "metadata": {
    "collapsed": false,
    "pycharm": {
     "name": "#%%\n",
     "is_executing": false
    }
   }
  }
 ],
 "metadata": {
  "kernelspec": {
   "name": "python3",
   "display_name": "Python 3",
   "language": "python"
  },
  "language_info": {
   "name": "python",
   "version": "3.6.13",
   "mimetype": "text/x-python",
   "codemirror_mode": {
    "name": "ipython",
    "version": 3
   },
   "pygments_lexer": "ipython3",
   "nbconvert_exporter": "python",
   "file_extension": ".py"
  },
  "pycharm": {
   "stem_cell": {
    "cell_type": "raw",
    "source": [],
    "metadata": {
     "collapsed": false
    }
   }
  }
 },
 "nbformat": 4,
 "nbformat_minor": 5
}
